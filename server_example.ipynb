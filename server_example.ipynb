{
 "cells": [
  {
   "cell_type": "code",
   "execution_count": 1,
   "metadata": {},
   "outputs": [],
   "source": [
    "import pandas as pd\n",
    "import numpy as np"
   ]
  },
  {
   "cell_type": "code",
   "execution_count": 2,
   "metadata": {},
   "outputs": [],
   "source": [
    "from flask import Flask, send_file\n",
    "from config import *"
   ]
  },
  {
   "cell_type": "code",
   "execution_count": 3,
   "metadata": {},
   "outputs": [],
   "source": [
    "import datetime as dt\n",
    "from datetime import time\n",
    "from datetime import timedelta  "
   ]
  },
  {
   "cell_type": "code",
   "execution_count": 4,
   "metadata": {},
   "outputs": [],
   "source": [
    "import sys"
   ]
  },
  {
   "cell_type": "code",
   "execution_count": 5,
   "metadata": {},
   "outputs": [],
   "source": [
    "sys.path.append('../')"
   ]
  },
  {
   "cell_type": "code",
   "execution_count": 6,
   "metadata": {},
   "outputs": [],
   "source": [
    "import argparse\n",
    "import time\n",
    "from sys import platform\n",
    "\n",
    "from models import *\n",
    "from utils.datasets import *\n",
    "from utils.utils import *"
   ]
  },
  {
   "cell_type": "code",
   "execution_count": 7,
   "metadata": {},
   "outputs": [],
   "source": [
    "cfg = '../cfg/yolov3.cfg'\n",
    "weights = '../weights/yolov3.weights'\n",
    "images = '../data/samples'\n",
    "output='../output'\n",
    "img_size=416\n",
    "conf_thres=0.3\n",
    "nms_thres=0.45\n",
    "save_txt=False\n",
    "save_images=True\n",
    "webcam=False"
   ]
  },
  {
   "cell_type": "code",
   "execution_count": 8,
   "metadata": {},
   "outputs": [
    {
     "data": {
      "text/plain": [
       "{'gpus': '0,1,2,3',\n",
       " 'num_workers': '10',\n",
       " 'classes': '80',\n",
       " 'train': '../coco/trainvalno5k.txt',\n",
       " 'valid': '../coco/5k.txt',\n",
       " 'names': 'data/coco.names',\n",
       " 'backup': 'backup/',\n",
       " 'eval': 'coco'}"
      ]
     },
     "execution_count": 8,
     "metadata": {},
     "output_type": "execute_result"
    }
   ],
   "source": [
    "parse_data_cfg('../cfg/coco.data')"
   ]
  },
  {
   "cell_type": "code",
   "execution_count": 9,
   "metadata": {},
   "outputs": [
    {
     "name": "stdout",
     "output_type": "stream",
     "text": [
      "Found 2 GPUs\n",
      "Using cuda _CudaDeviceProperties(name='GeForce GTX 1080 Ti', major=6, minor=1, total_memory=11176MB, multi_processor_count=28)\n",
      "\n"
     ]
    }
   ],
   "source": [
    "device = torch_utils.select_device()\n",
    "model = Darknet(cfg, img_size)\n",
    "_ = load_darknet_weights(model, weights)\n",
    "model.to(device).eval()\n",
    "\n",
    "classes = ['person', 'non person']\n",
    "colors = [[random.randint(0, 255) for _ in range(3)] for _ in range(len(classes))]"
   ]
  },
  {
   "cell_type": "code",
   "execution_count": 10,
   "metadata": {},
   "outputs": [],
   "source": [
    "dataloader = LoadImages(images, img_size=img_size)"
   ]
  },
  {
   "cell_type": "code",
   "execution_count": 11,
   "metadata": {},
   "outputs": [],
   "source": [
    "PERSON_FOUND = 0\n",
    "\n",
    "def predict_image():\n",
    "    global PERSON_FOUND\n",
    "    \n",
    "    for i, (path, img, im0) in enumerate(dataloader):\n",
    "        save_path = '../output/pic.jpg'\n",
    "        \n",
    "        # Get detections\n",
    "        img = torch.from_numpy(img).unsqueeze(0).to(device)\n",
    "        pred = model(img)\n",
    "        pred = pred[pred[:, :, 4] > conf_thres]  # remove boxes < threshold\n",
    "\n",
    "        if len(pred) > 0:\n",
    "            # Run NMS on predictions\n",
    "            detections = non_max_suppression(pred.unsqueeze(0), conf_thres, nms_thres)[0]\n",
    "\n",
    "            # Rescale boxes from 416 to true image size\n",
    "            scale_coords(img_size, detections[:, :4], im0.shape).round()\n",
    "\n",
    "            # Print results to screen\n",
    "            # class 0 is person\n",
    "            unique_classes = detections[:, -1].cpu().unique()\n",
    "            detections = detections[detections[:, -1].cpu() == 0]\n",
    "\n",
    "            person_count = (detections[:, -1].cpu() == 0).sum().numpy()\n",
    "#             print('Found ', person_count, ' persons')\n",
    "\n",
    "\n",
    "            # Draw bounding boxes and labels of detections\n",
    "            for *xyxy, conf, cls_conf, cls in detections:\n",
    "                # Add bbox to the image\n",
    "                label = '%s %.2f' % (classes[int(cls)], conf)\n",
    "                plot_one_box(xyxy, im0, label=label, color=colors[int(cls)])\n",
    "        else:\n",
    "            person_count = 0\n",
    "            \n",
    "        print('Found ', person_count, ' persons')\n",
    "        \n",
    "        PERSON_FOUND = person_count\n",
    "\n",
    "        if save_images:  # Save generated image with detections\n",
    "            cv2.imwrite(save_path, im0)\n",
    "        break"
   ]
  },
  {
   "cell_type": "code",
   "execution_count": 12,
   "metadata": {},
   "outputs": [
    {
     "name": "stdout",
     "output_type": "stream",
     "text": [
      "Found  0  persons\n"
     ]
    }
   ],
   "source": [
    "predict_image()"
   ]
  },
  {
   "cell_type": "code",
   "execution_count": 13,
   "metadata": {},
   "outputs": [],
   "source": [
    "ts = pd.read_hdf('../prediction.h5')"
   ]
  },
  {
   "cell_type": "code",
   "execution_count": 34,
   "metadata": {},
   "outputs": [],
   "source": [
    "def make_prediction(date):\n",
    "    \n",
    "    time_zone = timedelta(hours=3)\n",
    "    date += time_zone\n",
    "    \n",
    "    weekday = 1 # date.weekday()\n",
    "    hour = 12  # date.hour\n",
    "    minute = 20 # date.minute\n",
    "    \n",
    "    weekday = date.weekday()\n",
    "    hour = date.hour \n",
    "    minute = date.minute\n",
    "    \n",
    "    print(weekday, hour, minute)\n",
    "    \n",
    "    if weekday not in list(range(0, 6)):\n",
    "        result += \"Today canteen doesn't work\"\n",
    "        return result\n",
    "    weekday += 1\n",
    "\n",
    "    today_ts = ts.loc[ts.weekday == weekday]\n",
    "    time_start = dt.time(hour, minute)\n",
    "    \n",
    "    result = f\"Current time is: {time_start.strftime('%H:%M')}\\nPerson found:{PERSON_FOUND}\\n\"\n",
    "    \n",
    "    flag = False\n",
    "    weekday += 1\n",
    "\n",
    "    intervals = [15 for i in range(1, 5)]\n",
    "\n",
    "    for interval in intervals:\n",
    "        delta = timedelta(minutes=interval)\n",
    "        time_end = (dt.datetime.combine(dt.date(1,1,1), time_start) + delta).time()\n",
    "        split = today_ts.between_time(time_start, time_end)\n",
    "        \n",
    "        if split.shape[0] == 0 and hour > 12:\n",
    "            result += \"Canteen close at 16:00\"\n",
    "            break\n",
    "            \n",
    "        elif split.shape[0] == 0 and hour <= 12:\n",
    "            if not flag:\n",
    "                result += \"Dinner starts at 11:00\\n\"\n",
    "                flag = True\n",
    "            \n",
    "        \n",
    "        min_people = int(np.min(split.y.values))\n",
    "        min_time = split.y.idxmin().time().strftime('%H:%M')\n",
    "        mean_load = int(np.mean(split.y.values))\n",
    "        from_str = time_start.strftime('%H:%M')\n",
    "        to_str = time_end.strftime('%H:%M')\n",
    "\n",
    "        result += f'From {from_str} to {to_str}:\\\n",
    "              \\n\\tmin people = {min_people},\\\n",
    "              \\n\\tbest time = {min_time},\\\n",
    "              \\n\\tmean load = {mean_load}' + '\\n\\n'\n",
    "\n",
    "        time_start = time_end\n",
    "    return result"
   ]
  },
  {
   "cell_type": "code",
   "execution_count": 35,
   "metadata": {},
   "outputs": [
    {
     "name": "stdout",
     "output_type": "stream",
     "text": [
      "0 11 22\n",
      "Current time is: 11:22\n",
      "Person found:1\n",
      "From 11:22 to 11:37:              \n",
      "\tmin people = 0,              \n",
      "\tbest time = 11:34,              \n",
      "\tmean load = 0\n",
      "\n",
      "From 11:37 to 11:52:              \n",
      "\tmin people = 0,              \n",
      "\tbest time = 11:39,              \n",
      "\tmean load = 1\n",
      "\n",
      "From 11:52 to 12:07:              \n",
      "\tmin people = 6,              \n",
      "\tbest time = 11:54,              \n",
      "\tmean load = 8\n",
      "\n",
      "From 12:07 to 12:22:              \n",
      "\tmin people = 6,              \n",
      "\tbest time = 12:22,              \n",
      "\tmean load = 8\n",
      "\n",
      "\n"
     ]
    }
   ],
   "source": [
    "print(make_prediction(dt.datetime.now()))"
   ]
  },
  {
   "cell_type": "code",
   "execution_count": 36,
   "metadata": {},
   "outputs": [],
   "source": [
    "app = Flask(__name__)\n",
    "\n",
    "@app.route(\"/\")\n",
    "def hello():\n",
    "    return \"Hello World!\"\n",
    "\n",
    "@app.route(\"/picture\")\n",
    "def picture():\n",
    "    return send_file(\"../data/samples/input.jpg\", mimetype='image/jpeg')\n",
    "\n",
    "@app.route(\"/labeled-picture\")\n",
    "def labaled_picture():\n",
    "    predict_image()\n",
    "    return send_file(\"../output/pic.jpg\", mimetype='image/jpeg')\n",
    "\n",
    "@app.route(\"/predict\")\n",
    "def predict():\n",
    "    print(dt.datetime.now())\n",
    "    return make_prediction(dt.datetime.now())"
   ]
  },
  {
   "cell_type": "code",
   "execution_count": null,
   "metadata": {
    "scrolled": false
   },
   "outputs": [
    {
     "name": "stderr",
     "output_type": "stream",
     "text": [
      " * Running on http://127.0.0.1:5000/ (Press CTRL+C to quit)\n",
      "127.0.0.1 - - [22/Apr/2019 08:22:45] \"\u001b[37mGET /labeled-picture HTTP/1.1\u001b[0m\" 200 -\n",
      "127.0.0.1 - - [22/Apr/2019 08:22:45] \"\u001b[37mGET /predict HTTP/1.1\u001b[0m\" 200 -\n"
     ]
    },
    {
     "name": "stdout",
     "output_type": "stream",
     "text": [
      "Found  0  persons\n",
      "2019-04-22 08:22:45.243403\n",
      "0 11 22\n"
     ]
    },
    {
     "name": "stderr",
     "output_type": "stream",
     "text": [
      "127.0.0.1 - - [22/Apr/2019 08:22:49] \"\u001b[37mGET /labeled-picture HTTP/1.1\u001b[0m\" 200 -\n",
      "127.0.0.1 - - [22/Apr/2019 08:22:49] \"\u001b[37mGET /predict HTTP/1.1\u001b[0m\" 200 -\n"
     ]
    },
    {
     "name": "stdout",
     "output_type": "stream",
     "text": [
      "Found  0  persons\n",
      "2019-04-22 08:22:49.190401\n",
      "0 11 22\n"
     ]
    },
    {
     "name": "stderr",
     "output_type": "stream",
     "text": [
      "127.0.0.1 - - [22/Apr/2019 08:22:51] \"\u001b[37mGET /labeled-picture HTTP/1.1\u001b[0m\" 200 -\n",
      "127.0.0.1 - - [22/Apr/2019 08:22:51] \"\u001b[37mGET /predict HTTP/1.1\u001b[0m\" 200 -\n"
     ]
    },
    {
     "name": "stdout",
     "output_type": "stream",
     "text": [
      "Found  0  persons\n",
      "2019-04-22 08:22:51.838021\n",
      "0 11 22\n"
     ]
    },
    {
     "name": "stderr",
     "output_type": "stream",
     "text": [
      "127.0.0.1 - - [22/Apr/2019 08:26:31] \"\u001b[37mGET /labeled-picture HTTP/1.1\u001b[0m\" 200 -\n",
      "127.0.0.1 - - [22/Apr/2019 08:26:31] \"\u001b[37mGET /predict HTTP/1.1\u001b[0m\" 200 -\n"
     ]
    },
    {
     "name": "stdout",
     "output_type": "stream",
     "text": [
      "Found  0  persons\n",
      "2019-04-22 08:26:31.439615\n",
      "0 11 26\n"
     ]
    },
    {
     "name": "stderr",
     "output_type": "stream",
     "text": [
      "127.0.0.1 - - [22/Apr/2019 08:26:36] \"\u001b[37mGET /labeled-picture HTTP/1.1\u001b[0m\" 200 -\n",
      "127.0.0.1 - - [22/Apr/2019 08:26:36] \"\u001b[37mGET /predict HTTP/1.1\u001b[0m\" 200 -\n"
     ]
    },
    {
     "name": "stdout",
     "output_type": "stream",
     "text": [
      "Found  0  persons\n",
      "2019-04-22 08:26:36.916806\n",
      "0 11 26\n"
     ]
    },
    {
     "name": "stderr",
     "output_type": "stream",
     "text": [
      "127.0.0.1 - - [22/Apr/2019 08:26:40] \"\u001b[37mGET /labeled-picture HTTP/1.1\u001b[0m\" 200 -\n",
      "127.0.0.1 - - [22/Apr/2019 08:26:40] \"\u001b[37mGET /predict HTTP/1.1\u001b[0m\" 200 -\n"
     ]
    },
    {
     "name": "stdout",
     "output_type": "stream",
     "text": [
      "Found  0  persons\n",
      "2019-04-22 08:26:40.516184\n",
      "0 11 26\n"
     ]
    },
    {
     "name": "stderr",
     "output_type": "stream",
     "text": [
      "127.0.0.1 - - [22/Apr/2019 08:27:05] \"\u001b[37mGET /labeled-picture HTTP/1.1\u001b[0m\" 200 -\n",
      "127.0.0.1 - - [22/Apr/2019 08:27:05] \"\u001b[37mGET /predict HTTP/1.1\u001b[0m\" 200 -\n"
     ]
    },
    {
     "name": "stdout",
     "output_type": "stream",
     "text": [
      "Found  0  persons\n",
      "2019-04-22 08:27:05.503263\n",
      "0 11 27\n"
     ]
    }
   ],
   "source": [
    "app.run()"
   ]
  },
  {
   "cell_type": "code",
   "execution_count": null,
   "metadata": {},
   "outputs": [],
   "source": []
  }
 ],
 "metadata": {
  "kernelspec": {
   "display_name": "Python 3",
   "language": "python",
   "name": "python3"
  },
  "language_info": {
   "codemirror_mode": {
    "name": "ipython",
    "version": 3
   },
   "file_extension": ".py",
   "mimetype": "text/x-python",
   "name": "python",
   "nbconvert_exporter": "python",
   "pygments_lexer": "ipython3",
   "version": "3.6.6"
  }
 },
 "nbformat": 4,
 "nbformat_minor": 2
}
