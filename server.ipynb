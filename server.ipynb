{
 "cells": [
  {
   "cell_type": "code",
   "execution_count": 1,
   "metadata": {},
   "outputs": [],
   "source": [
    "import pandas as pd\n",
    "import numpy as np"
   ]
  },
  {
   "cell_type": "code",
   "execution_count": 2,
   "metadata": {},
   "outputs": [],
   "source": [
    "from flask import Flask, send_file\n",
    "from config import *"
   ]
  },
  {
   "cell_type": "code",
   "execution_count": 3,
   "metadata": {},
   "outputs": [],
   "source": [
    "import datetime as dt\n",
    "from datetime import time\n",
    "from datetime import timedelta  "
   ]
  },
  {
   "cell_type": "code",
   "execution_count": 4,
   "metadata": {},
   "outputs": [],
   "source": [
    "import sys"
   ]
  },
  {
   "cell_type": "code",
   "execution_count": 5,
   "metadata": {},
   "outputs": [],
   "source": [
    "sys.path.append('../')"
   ]
  },
  {
   "cell_type": "code",
   "execution_count": 6,
   "metadata": {},
   "outputs": [],
   "source": [
    "import argparse\n",
    "import time\n",
    "from sys import platform\n",
    "\n",
    "from models import *\n",
    "from utils.datasets import *\n",
    "from utils.utils import *"
   ]
  },
  {
   "cell_type": "code",
   "execution_count": 7,
   "metadata": {},
   "outputs": [],
   "source": [
    "cfg = '../cfg/yolov3.cfg'\n",
    "weights = '../weights/yolov3.weights'\n",
    "images = '../data/samples'\n",
    "output='../output'\n",
    "img_size=416\n",
    "conf_thres=0.3\n",
    "nms_thres=0.45\n",
    "save_txt=False\n",
    "save_images=True\n",
    "webcam=False"
   ]
  },
  {
   "cell_type": "code",
   "execution_count": 8,
   "metadata": {},
   "outputs": [
    {
     "data": {
      "text/plain": [
       "{'gpus': '0,1,2,3',\n",
       " 'num_workers': '10',\n",
       " 'classes': '80',\n",
       " 'train': '../coco/trainvalno5k.txt',\n",
       " 'valid': '../coco/5k.txt',\n",
       " 'names': 'data/coco.names',\n",
       " 'backup': 'backup/',\n",
       " 'eval': 'coco'}"
      ]
     },
     "execution_count": 8,
     "metadata": {},
     "output_type": "execute_result"
    }
   ],
   "source": [
    "parse_data_cfg('../cfg/coco.data')"
   ]
  },
  {
   "cell_type": "code",
   "execution_count": 9,
   "metadata": {},
   "outputs": [
    {
     "name": "stdout",
     "output_type": "stream",
     "text": [
      "Found 2 GPUs\n",
      "Using cuda _CudaDeviceProperties(name='GeForce GTX 1080 Ti', major=6, minor=1, total_memory=11176MB, multi_processor_count=28)\n",
      "\n"
     ]
    }
   ],
   "source": [
    "device = torch_utils.select_device()\n",
    "model = Darknet(cfg, img_size)\n",
    "_ = load_darknet_weights(model, weights)\n",
    "model.to(device).eval()\n",
    "\n",
    "classes = ['person', 'non person']\n",
    "colors = [[random.randint(0, 255) for _ in range(3)] for _ in range(len(classes))]"
   ]
  },
  {
   "cell_type": "code",
   "execution_count": 10,
   "metadata": {},
   "outputs": [],
   "source": [
    "dataloader = LoadImages(images, img_size=img_size)"
   ]
  },
  {
   "cell_type": "code",
   "execution_count": 11,
   "metadata": {},
   "outputs": [],
   "source": [
    "PERSON_FOUND = 0\n",
    "\n",
    "def predict_image():\n",
    "    global PERSON_FOUND\n",
    "    \n",
    "    for i, (path, img, im0) in enumerate(dataloader):\n",
    "        save_path = '../output/pic.jpg'\n",
    "        \n",
    "        # Get detections\n",
    "        img = torch.from_numpy(img).unsqueeze(0).to(device)\n",
    "        pred = model(img)\n",
    "        pred = pred[pred[:, :, 4] > conf_thres]  # remove boxes < threshold\n",
    "\n",
    "        if len(pred) > 0:\n",
    "            # Run NMS on predictions\n",
    "            detections = non_max_suppression(pred.unsqueeze(0), conf_thres, nms_thres)[0]\n",
    "\n",
    "            # Rescale boxes from 416 to true image size\n",
    "            scale_coords(img_size, detections[:, :4], im0.shape).round()\n",
    "\n",
    "            # Print results to screen\n",
    "            # class 0 is person\n",
    "            unique_classes = detections[:, -1].cpu().unique()\n",
    "            detections = detections[detections[:, -1].cpu() == 0]\n",
    "\n",
    "            person_count = (detections[:, -1].cpu() == 0).sum().numpy()\n",
    "#             print('Found ', person_count, ' persons')\n",
    "\n",
    "\n",
    "            # Draw bounding boxes and labels of detections\n",
    "            for *xyxy, conf, cls_conf, cls in detections:\n",
    "                # Add bbox to the image\n",
    "                label = '%s %.2f' % (classes[int(cls)], conf)\n",
    "                plot_one_box(xyxy, im0, label=label, color=colors[int(cls)])\n",
    "        else:\n",
    "            person_count = 0\n",
    "            \n",
    "        print('Found ', person_count, ' persons')\n",
    "        \n",
    "        PERSON_FOUND = person_count\n",
    "\n",
    "        if save_images:  # Save generated image with detections\n",
    "            cv2.imwrite(save_path, im0)\n",
    "        break"
   ]
  },
  {
   "cell_type": "code",
   "execution_count": 12,
   "metadata": {},
   "outputs": [
    {
     "name": "stdout",
     "output_type": "stream",
     "text": [
      "Found  0  persons\n"
     ]
    }
   ],
   "source": [
    "predict_image()"
   ]
  },
  {
   "cell_type": "code",
   "execution_count": 13,
   "metadata": {},
   "outputs": [],
   "source": [
    "ts = pd.read_hdf('../prediction.h5')"
   ]
  },
  {
   "cell_type": "code",
   "execution_count": 59,
   "metadata": {},
   "outputs": [],
   "source": [
    "def make_prediction(date):\n",
    "    \n",
    "    time_zone = timedelta(hours=3)\n",
    "    date += time_zone\n",
    "    \n",
    "    weekday = 1 # date.weekday()\n",
    "    hour = 12  # date.hour\n",
    "    minute = 20 # date.minute\n",
    "    \n",
    "    weekday = date.weekday()\n",
    "    hour = date.hour \n",
    "    minute = date.minute\n",
    "    \n",
    "    print(weekday, hour, minute)\n",
    "    \n",
    "    if weekday not in list(range(0, 6)):\n",
    "        result += \"Today canteen doesn't work\"\n",
    "        return result\n",
    "    weekday += 1\n",
    "\n",
    "    today_ts = ts.loc[ts.weekday == weekday]\n",
    "    time_start = dt.time(hour, minute)\n",
    "    \n",
    "    result = f\"⏱Current time is: {time_start.strftime('%H:%M')}\\n👀Person found: {PERSON_FOUND}\\n\\n\"\n",
    "    \n",
    "    flag = False\n",
    "    weekday += 1\n",
    "\n",
    "    intervals = [15 for i in range(1, 5)]\n",
    "\n",
    "    i = 0\n",
    "    for interval in intervals:\n",
    "        i += 1\n",
    "        delta = timedelta(minutes=interval)\n",
    "        time_end = (dt.datetime.combine(dt.date(1,1,1), time_start) + delta).time()\n",
    "        split = today_ts.between_time(time_start, time_end)\n",
    "        \n",
    "        if split.shape[0] == 0 and hour > 12:\n",
    "            result += \"Canteen close at 16:00\"\n",
    "            break\n",
    "            \n",
    "        elif split.shape[0] == 0 and hour <= 12:\n",
    "            if not flag:\n",
    "                result += \"Dinner starts at 11:00\\n\"\n",
    "                flag = True\n",
    "            \n",
    "        \n",
    "        min_people = int(np.min(split.y.values))\n",
    "        min_time = split.y.idxmin().time().strftime('%H:%M')\n",
    "        mean_load = int(np.mean(split.y.values))\n",
    "        from_str = time_start.strftime('%H:%M')\n",
    "        to_str = time_end.strftime('%H:%M')\n",
    "\n",
    "        romb = '🔹' if i % 2 == 1 else '🔸'\n",
    "        result += f'{romb}From {from_str} to {to_str} a minumum expected amount of people is {min_people}. This load is expected at {min_time}, while in average there will be {mean_load} persons.\\n\\n'\n",
    "#         result += f'From {from_str} to {to_str}:\\\n",
    "#               \\n\\tmin people = {min_people},\\\n",
    "#               \\n\\tbest time = {min_time},\\\n",
    "#               \\n\\tmean load = {mean_load}' + '\\n\\n'\n",
    "\n",
    "        time_start = time_end\n",
    "    return result"
   ]
  },
  {
   "cell_type": "code",
   "execution_count": 60,
   "metadata": {},
   "outputs": [
    {
     "name": "stdout",
     "output_type": "stream",
     "text": [
      "0 12 11\n",
      "⏱Current time is: 12:11\n",
      "👀Person found: 14\n",
      "\n",
      "🔹From 12:11 to 12:26 a minumum expected amount of people is 2. This load is expected at 12:24, while in average there will be 7 persons.\n",
      "\n",
      "🔸From 12:26 to 12:41 a minumum expected amount of people is 4. This load is expected at 12:26, while in average there will be 8 persons.\n",
      "\n",
      "🔹From 12:41 to 12:56 a minumum expected amount of people is 6. This load is expected at 12:47, while in average there will be 9 persons.\n",
      "\n",
      "🔸From 12:56 to 13:11 a minumum expected amount of people is 8. This load is expected at 13:04, while in average there will be 11 persons.\n",
      "\n",
      "\n"
     ]
    }
   ],
   "source": [
    "print(make_prediction(dt.datetime.now()))"
   ]
  },
  {
   "cell_type": "code",
   "execution_count": 61,
   "metadata": {},
   "outputs": [],
   "source": [
    "app = Flask(__name__)\n",
    "\n",
    "@app.route(\"/\")\n",
    "def hello():\n",
    "    return \"Hello World!\"\n",
    "\n",
    "@app.route(\"/picture\")\n",
    "def picture():\n",
    "    return send_file(\"../data/samples/input.jpg\", mimetype='image/jpeg')\n",
    "\n",
    "@app.route(\"/labeled-picture\")\n",
    "def labaled_picture():\n",
    "    predict_image()\n",
    "    return send_file(\"../output/pic.jpg\", mimetype='image/jpeg')\n",
    "\n",
    "@app.route(\"/predict\")\n",
    "def predict():\n",
    "    print(dt.datetime.now())\n",
    "    return make_prediction(dt.datetime.now())"
   ]
  },
  {
   "cell_type": "code",
   "execution_count": null,
   "metadata": {
    "scrolled": false
   },
   "outputs": [
    {
     "name": "stderr",
     "output_type": "stream",
     "text": [
      " * Running on http://127.0.0.1:5000/ (Press CTRL+C to quit)\n",
      "127.0.0.1 - - [22/Apr/2019 09:11:28] \"\u001b[37mGET /labeled-picture HTTP/1.1\u001b[0m\" 200 -\n",
      "127.0.0.1 - - [22/Apr/2019 09:11:28] \"\u001b[37mGET /predict HTTP/1.1\u001b[0m\" 200 -\n"
     ]
    },
    {
     "name": "stdout",
     "output_type": "stream",
     "text": [
      "Found  19  persons\n",
      "2019-04-22 09:11:28.363570\n",
      "0 12 11\n"
     ]
    },
    {
     "name": "stderr",
     "output_type": "stream",
     "text": [
      "127.0.0.1 - - [22/Apr/2019 09:11:51] \"\u001b[37mGET /picture HTTP/1.1\u001b[0m\" 200 -\n",
      "127.0.0.1 - - [22/Apr/2019 09:11:51] \"\u001b[37mGET /predict HTTP/1.1\u001b[0m\" 200 -\n"
     ]
    },
    {
     "name": "stdout",
     "output_type": "stream",
     "text": [
      "2019-04-22 09:11:51.743569\n",
      "0 12 11\n"
     ]
    },
    {
     "name": "stderr",
     "output_type": "stream",
     "text": [
      "127.0.0.1 - - [22/Apr/2019 09:17:14] \"\u001b[37mGET /labeled-picture HTTP/1.1\u001b[0m\" 200 -\n",
      "127.0.0.1 - - [22/Apr/2019 09:17:14] \"\u001b[37mGET /predict HTTP/1.1\u001b[0m\" 200 -\n"
     ]
    },
    {
     "name": "stdout",
     "output_type": "stream",
     "text": [
      "Found  20  persons\n",
      "2019-04-22 09:17:14.677214\n",
      "0 12 17\n"
     ]
    },
    {
     "name": "stderr",
     "output_type": "stream",
     "text": [
      "127.0.0.1 - - [22/Apr/2019 09:19:45] \"\u001b[37mGET /picture HTTP/1.1\u001b[0m\" 200 -\n",
      "127.0.0.1 - - [22/Apr/2019 09:19:45] \"\u001b[37mGET /predict HTTP/1.1\u001b[0m\" 200 -\n"
     ]
    },
    {
     "name": "stdout",
     "output_type": "stream",
     "text": [
      "2019-04-22 09:19:45.603991\n",
      "0 12 19\n"
     ]
    },
    {
     "name": "stderr",
     "output_type": "stream",
     "text": [
      "127.0.0.1 - - [22/Apr/2019 09:21:00] \"\u001b[37mGET /picture HTTP/1.1\u001b[0m\" 200 -\n",
      "127.0.0.1 - - [22/Apr/2019 09:21:00] \"\u001b[37mGET /predict HTTP/1.1\u001b[0m\" 200 -\n"
     ]
    },
    {
     "name": "stdout",
     "output_type": "stream",
     "text": [
      "2019-04-22 09:21:00.916963\n",
      "0 12 21\n"
     ]
    },
    {
     "name": "stderr",
     "output_type": "stream",
     "text": [
      "127.0.0.1 - - [22/Apr/2019 09:21:09] \"\u001b[37mGET /labeled-picture HTTP/1.1\u001b[0m\" 200 -\n",
      "127.0.0.1 - - [22/Apr/2019 09:21:09] \"\u001b[37mGET /predict HTTP/1.1\u001b[0m\" 200 -\n"
     ]
    },
    {
     "name": "stdout",
     "output_type": "stream",
     "text": [
      "Found  17  persons\n",
      "2019-04-22 09:21:09.480870\n",
      "0 12 21\n"
     ]
    },
    {
     "name": "stderr",
     "output_type": "stream",
     "text": [
      "127.0.0.1 - - [22/Apr/2019 09:27:28] \"\u001b[37mGET /labeled-picture HTTP/1.1\u001b[0m\" 200 -\n",
      "127.0.0.1 - - [22/Apr/2019 09:27:28] \"\u001b[37mGET /predict HTTP/1.1\u001b[0m\" 200 -\n"
     ]
    },
    {
     "name": "stdout",
     "output_type": "stream",
     "text": [
      "Found  12  persons\n",
      "2019-04-22 09:27:28.147483\n",
      "0 12 27\n"
     ]
    },
    {
     "name": "stderr",
     "output_type": "stream",
     "text": [
      "127.0.0.1 - - [22/Apr/2019 09:28:23] \"\u001b[37mGET /labeled-picture HTTP/1.1\u001b[0m\" 200 -\n",
      "127.0.0.1 - - [22/Apr/2019 09:28:23] \"\u001b[37mGET /predict HTTP/1.1\u001b[0m\" 200 -\n"
     ]
    },
    {
     "name": "stdout",
     "output_type": "stream",
     "text": [
      "Found  12  persons\n",
      "2019-04-22 09:28:23.507931\n",
      "0 12 28\n"
     ]
    },
    {
     "name": "stderr",
     "output_type": "stream",
     "text": [
      "127.0.0.1 - - [22/Apr/2019 09:50:47] \"\u001b[37mGET /labeled-picture HTTP/1.1\u001b[0m\" 200 -\n",
      "127.0.0.1 - - [22/Apr/2019 09:50:47] \"\u001b[37mGET /predict HTTP/1.1\u001b[0m\" 200 -\n"
     ]
    },
    {
     "name": "stdout",
     "output_type": "stream",
     "text": [
      "Found  12  persons\n",
      "2019-04-22 09:50:47.886676\n",
      "0 12 50\n"
     ]
    },
    {
     "name": "stderr",
     "output_type": "stream",
     "text": [
      "127.0.0.1 - - [22/Apr/2019 09:54:31] \"\u001b[37mGET /labeled-picture HTTP/1.1\u001b[0m\" 200 -\n",
      "127.0.0.1 - - [22/Apr/2019 09:54:31] \"\u001b[37mGET /predict HTTP/1.1\u001b[0m\" 200 -\n"
     ]
    },
    {
     "name": "stdout",
     "output_type": "stream",
     "text": [
      "Found  4  persons\n",
      "2019-04-22 09:54:31.896310\n",
      "0 12 54\n"
     ]
    },
    {
     "name": "stderr",
     "output_type": "stream",
     "text": [
      "127.0.0.1 - - [22/Apr/2019 09:54:35] \"\u001b[37mGET /picture HTTP/1.1\u001b[0m\" 200 -\n",
      "127.0.0.1 - - [22/Apr/2019 09:54:35] \"\u001b[37mGET /predict HTTP/1.1\u001b[0m\" 200 -\n"
     ]
    },
    {
     "name": "stdout",
     "output_type": "stream",
     "text": [
      "2019-04-22 09:54:35.512361\n",
      "0 12 54\n"
     ]
    },
    {
     "name": "stderr",
     "output_type": "stream",
     "text": [
      "127.0.0.1 - - [22/Apr/2019 09:54:36] \"\u001b[37mGET /picture HTTP/1.1\u001b[0m\" 200 -\n",
      "127.0.0.1 - - [22/Apr/2019 09:54:36] \"\u001b[37mGET /predict HTTP/1.1\u001b[0m\" 200 -\n"
     ]
    },
    {
     "name": "stdout",
     "output_type": "stream",
     "text": [
      "2019-04-22 09:54:36.152774\n",
      "0 12 54\n"
     ]
    },
    {
     "name": "stderr",
     "output_type": "stream",
     "text": [
      "127.0.0.1 - - [22/Apr/2019 09:54:39] \"\u001b[37mGET /picture HTTP/1.1\u001b[0m\" 200 -\n",
      "127.0.0.1 - - [22/Apr/2019 09:54:39] \"\u001b[37mGET /predict HTTP/1.1\u001b[0m\" 200 -\n"
     ]
    },
    {
     "name": "stdout",
     "output_type": "stream",
     "text": [
      "2019-04-22 09:54:39.261611\n",
      "0 12 54\n"
     ]
    },
    {
     "name": "stderr",
     "output_type": "stream",
     "text": [
      "127.0.0.1 - - [22/Apr/2019 09:54:50] \"\u001b[37mGET /labeled-picture HTTP/1.1\u001b[0m\" 200 -\n",
      "127.0.0.1 - - [22/Apr/2019 09:54:50] \"\u001b[37mGET /predict HTTP/1.1\u001b[0m\" 200 -\n"
     ]
    },
    {
     "name": "stdout",
     "output_type": "stream",
     "text": [
      "Found  9  persons\n",
      "2019-04-22 09:54:50.177977\n",
      "0 12 54\n"
     ]
    },
    {
     "name": "stderr",
     "output_type": "stream",
     "text": [
      "127.0.0.1 - - [22/Apr/2019 09:54:54] \"\u001b[37mGET /picture HTTP/1.1\u001b[0m\" 200 -\n",
      "127.0.0.1 - - [22/Apr/2019 09:54:54] \"\u001b[37mGET /predict HTTP/1.1\u001b[0m\" 200 -\n"
     ]
    },
    {
     "name": "stdout",
     "output_type": "stream",
     "text": [
      "2019-04-22 09:54:54.456254\n",
      "0 12 54\n"
     ]
    },
    {
     "name": "stderr",
     "output_type": "stream",
     "text": [
      "127.0.0.1 - - [22/Apr/2019 09:54:57] \"\u001b[37mGET /picture HTTP/1.1\u001b[0m\" 200 -\n",
      "127.0.0.1 - - [22/Apr/2019 09:54:57] \"\u001b[37mGET /predict HTTP/1.1\u001b[0m\" 200 -\n"
     ]
    },
    {
     "name": "stdout",
     "output_type": "stream",
     "text": [
      "2019-04-22 09:54:57.572101\n",
      "0 12 54\n"
     ]
    },
    {
     "name": "stderr",
     "output_type": "stream",
     "text": [
      "127.0.0.1 - - [22/Apr/2019 09:55:02] \"\u001b[37mGET /labeled-picture HTTP/1.1\u001b[0m\" 200 -\n",
      "127.0.0.1 - - [22/Apr/2019 09:55:02] \"\u001b[37mGET /predict HTTP/1.1\u001b[0m\" 200 -\n"
     ]
    },
    {
     "name": "stdout",
     "output_type": "stream",
     "text": [
      "Found  12  persons\n",
      "2019-04-22 09:55:02.169180\n",
      "0 12 55\n"
     ]
    },
    {
     "name": "stderr",
     "output_type": "stream",
     "text": [
      "127.0.0.1 - - [22/Apr/2019 09:55:03] \"\u001b[37mGET /picture HTTP/1.1\u001b[0m\" 200 -\n",
      "127.0.0.1 - - [22/Apr/2019 09:55:03] \"\u001b[37mGET /predict HTTP/1.1\u001b[0m\" 200 -\n"
     ]
    },
    {
     "name": "stdout",
     "output_type": "stream",
     "text": [
      "2019-04-22 09:55:03.230722\n",
      "0 12 55\n"
     ]
    },
    {
     "name": "stderr",
     "output_type": "stream",
     "text": [
      "127.0.0.1 - - [22/Apr/2019 09:55:07] \"\u001b[37mGET /labeled-picture HTTP/1.1\u001b[0m\" 200 -\n",
      "127.0.0.1 - - [22/Apr/2019 09:55:07] \"\u001b[37mGET /predict HTTP/1.1\u001b[0m\" 200 -\n"
     ]
    },
    {
     "name": "stdout",
     "output_type": "stream",
     "text": [
      "Found  13  persons\n",
      "2019-04-22 09:55:07.051198\n",
      "0 12 55\n"
     ]
    },
    {
     "name": "stderr",
     "output_type": "stream",
     "text": [
      "127.0.0.1 - - [22/Apr/2019 09:55:11] \"\u001b[37mGET /labeled-picture HTTP/1.1\u001b[0m\" 200 -\n",
      "127.0.0.1 - - [22/Apr/2019 09:55:11] \"\u001b[37mGET /predict HTTP/1.1\u001b[0m\" 200 -\n"
     ]
    },
    {
     "name": "stdout",
     "output_type": "stream",
     "text": [
      "Found  4  persons\n",
      "2019-04-22 09:55:11.231883\n",
      "0 12 55\n"
     ]
    },
    {
     "name": "stderr",
     "output_type": "stream",
     "text": [
      "127.0.0.1 - - [22/Apr/2019 09:55:28] \"\u001b[37mGET /picture HTTP/1.1\u001b[0m\" 200 -\n",
      "127.0.0.1 - - [22/Apr/2019 09:55:28] \"\u001b[37mGET /predict HTTP/1.1\u001b[0m\" 200 -\n"
     ]
    },
    {
     "name": "stdout",
     "output_type": "stream",
     "text": [
      "2019-04-22 09:55:28.553069\n",
      "0 12 55\n"
     ]
    },
    {
     "name": "stderr",
     "output_type": "stream",
     "text": [
      "127.0.0.1 - - [22/Apr/2019 09:55:30] \"\u001b[37mGET /labeled-picture HTTP/1.1\u001b[0m\" 200 -\n",
      "127.0.0.1 - - [22/Apr/2019 09:55:30] \"\u001b[37mGET /predict HTTP/1.1\u001b[0m\" 200 -\n"
     ]
    },
    {
     "name": "stdout",
     "output_type": "stream",
     "text": [
      "Found  3  persons\n",
      "2019-04-22 09:55:30.513015\n",
      "0 12 55\n"
     ]
    },
    {
     "name": "stderr",
     "output_type": "stream",
     "text": [
      "127.0.0.1 - - [22/Apr/2019 09:55:33] \"\u001b[37mGET /labeled-picture HTTP/1.1\u001b[0m\" 200 -\n",
      "127.0.0.1 - - [22/Apr/2019 09:55:33] \"\u001b[37mGET /predict HTTP/1.1\u001b[0m\" 200 -\n"
     ]
    },
    {
     "name": "stdout",
     "output_type": "stream",
     "text": [
      "Found  5  persons\n",
      "2019-04-22 09:55:33.266411\n",
      "0 12 55\n"
     ]
    },
    {
     "name": "stderr",
     "output_type": "stream",
     "text": [
      "127.0.0.1 - - [22/Apr/2019 09:55:40] \"\u001b[37mGET /picture HTTP/1.1\u001b[0m\" 200 -\n",
      "127.0.0.1 - - [22/Apr/2019 09:55:40] \"\u001b[37mGET /predict HTTP/1.1\u001b[0m\" 200 -\n"
     ]
    },
    {
     "name": "stdout",
     "output_type": "stream",
     "text": [
      "2019-04-22 09:55:40.353932\n",
      "0 12 55\n"
     ]
    },
    {
     "name": "stderr",
     "output_type": "stream",
     "text": [
      "127.0.0.1 - - [22/Apr/2019 09:55:47] \"\u001b[37mGET /labeled-picture HTTP/1.1\u001b[0m\" 200 -\n",
      "127.0.0.1 - - [22/Apr/2019 09:55:47] \"\u001b[37mGET /predict HTTP/1.1\u001b[0m\" 200 -\n"
     ]
    },
    {
     "name": "stdout",
     "output_type": "stream",
     "text": [
      "Found  1  persons\n",
      "2019-04-22 09:55:47.455038\n",
      "0 12 55\n"
     ]
    },
    {
     "name": "stderr",
     "output_type": "stream",
     "text": [
      "127.0.0.1 - - [22/Apr/2019 09:56:22] \"\u001b[37mGET /picture HTTP/1.1\u001b[0m\" 200 -\n",
      "127.0.0.1 - - [22/Apr/2019 09:56:22] \"\u001b[37mGET /predict HTTP/1.1\u001b[0m\" 200 -\n"
     ]
    },
    {
     "name": "stdout",
     "output_type": "stream",
     "text": [
      "2019-04-22 09:56:22.102334\n",
      "0 12 56\n"
     ]
    },
    {
     "name": "stderr",
     "output_type": "stream",
     "text": [
      "127.0.0.1 - - [22/Apr/2019 09:57:17] \"\u001b[37mGET /picture HTTP/1.1\u001b[0m\" 200 -\n",
      "127.0.0.1 - - [22/Apr/2019 09:57:17] \"\u001b[37mGET /predict HTTP/1.1\u001b[0m\" 200 -\n"
     ]
    },
    {
     "name": "stdout",
     "output_type": "stream",
     "text": [
      "2019-04-22 09:57:17.758796\n",
      "0 12 57\n"
     ]
    },
    {
     "name": "stderr",
     "output_type": "stream",
     "text": [
      "127.0.0.1 - - [22/Apr/2019 09:57:40] \"\u001b[37mGET /picture HTTP/1.1\u001b[0m\" 200 -\n",
      "127.0.0.1 - - [22/Apr/2019 09:57:40] \"\u001b[37mGET /predict HTTP/1.1\u001b[0m\" 200 -\n"
     ]
    },
    {
     "name": "stdout",
     "output_type": "stream",
     "text": [
      "2019-04-22 09:57:40.342269\n",
      "0 12 57\n"
     ]
    },
    {
     "name": "stderr",
     "output_type": "stream",
     "text": [
      "127.0.0.1 - - [22/Apr/2019 09:57:46] \"\u001b[37mGET /labeled-picture HTTP/1.1\u001b[0m\" 200 -\n",
      "127.0.0.1 - - [22/Apr/2019 09:57:46] \"\u001b[37mGET /predict HTTP/1.1\u001b[0m\" 200 -\n"
     ]
    },
    {
     "name": "stdout",
     "output_type": "stream",
     "text": [
      "Found  4  persons\n",
      "2019-04-22 09:57:46.372363\n",
      "0 12 57\n"
     ]
    }
   ],
   "source": [
    "app.run()"
   ]
  },
  {
   "cell_type": "code",
   "execution_count": null,
   "metadata": {},
   "outputs": [],
   "source": []
  }
 ],
 "metadata": {
  "kernelspec": {
   "display_name": "Python 3",
   "language": "python",
   "name": "python3"
  },
  "language_info": {
   "codemirror_mode": {
    "name": "ipython",
    "version": 3
   },
   "file_extension": ".py",
   "mimetype": "text/x-python",
   "name": "python",
   "nbconvert_exporter": "python",
   "pygments_lexer": "ipython3",
   "version": "3.6.6"
  }
 },
 "nbformat": 4,
 "nbformat_minor": 2
}
